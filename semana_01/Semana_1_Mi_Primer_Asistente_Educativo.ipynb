{
 "cells": [
  {
   "cell_type": "markdown",
   "id": "99c25661",
   "metadata": {},
   "source": [
    "# Semana 1 – Mi Primer Asistente Educativo 👨‍🏫🤖\n",
    "\n",
    "**Curso:** Ciencia de Datos Educativa con Enfoque Sociocrítico  \n",
    "**Estudiante:** David  \n",
    "**Profesor guía:** ChatGPT\n",
    "\n",
    "Bienvenido a la primera semana. Aquí aprenderás lo básico de Python mientras diseñas tu primer prototipo de asistente educativo.  \n"
   ]
  },
  {
   "cell_type": "code",
   "execution_count": null,
   "id": "58732779",
   "metadata": {},
   "outputs": [],
   "source": [
    "# Tu primer código en Python\n",
    "print(\"Hola, soy David y estoy creando mi primer asistente educativo con Python.\")"
   ]
  },
  {
   "cell_type": "code",
   "execution_count": null,
   "id": "f21e3aa0",
   "metadata": {},
   "outputs": [],
   "source": [
    "# Variables en Python\n",
    "nombre = \"David\"\n",
    "edad = 30\n",
    "profesion = \"profesor de matemáticas\"\n",
    "\n",
    "print(\"Mi nombre es\", nombre)\n",
    "print(\"Tengo\", edad, \"años\")\n",
    "print(\"Soy\", profesion)"
   ]
  },
  {
   "cell_type": "code",
   "execution_count": null,
   "id": "6d0f2734",
   "metadata": {},
   "outputs": [],
   "source": [
    "# Simulando una conversación con el asistente\n",
    "respuesta = input(\"¿Crees que las matemáticas deben servir para transformar la sociedad? (sí/no): \")\n",
    "\n",
    "if respuesta.lower() == \"sí\":\n",
    "    print(\"¡Excelente! Las matemáticas pueden ser una herramienta de liberación.\")\n",
    "else:\n",
    "    print(\"Es válido. A veces la escuela no nos ha mostrado su verdadero poder.\")"
   ]
  },
  {
   "cell_type": "markdown",
   "id": "1f9b9a20",
   "metadata": {},
   "source": [
    "## 🧠 Reto de la semana\n",
    "\n",
    "Crea una entrevista con 3 preguntas que haría tu asistente educativo a un profesor sobre currículo y educación crítica.  \n",
    "Usa `input()` y `print()` para simular el diálogo.  \n",
    "Ejemplo:\n",
    "\n",
    "```python\n",
    "pregunta1 = input(\"¿Qué entiendes por currículo sociocrítico?\")\n",
    "print(\"Gracias por tu respuesta:\", pregunta1)\n",
    "```\n",
    "\n",
    "Desarrolla tu versión abajo:\n"
   ]
  },
  {
   "cell_type": "code",
   "execution_count": null,
   "id": "07de4520",
   "metadata": {},
   "outputs": [],
   "source": [
    "# Tu código aquí\n",
    "pregunta1 = input(\"Pregunta 1: \")\n",
    "print(\"Respuesta grabada:\", pregunta1)\n",
    "\n",
    "pregunta2 = input(\"Pregunta 2: \")\n",
    "print(\"Respuesta grabada:\", pregunta2)\n",
    "\n",
    "pregunta3 = input(\"Pregunta 3: \")\n",
    "print(\"Respuesta grabada:\", pregunta3)"
   ]
  },
  {
   "cell_type": "markdown",
   "id": "9b3fe4e0",
   "metadata": {},
   "source": [
    "## ✍️ Reflexión final\n",
    "\n",
    "Responde aquí con Markdown (doble clic para editar esta celda):\n",
    "\n",
    "- ¿Cómo te sentiste programando tu primer asistente?\n",
    "- ¿Qué ideas se te ocurren para que este chatbot pueda ayudar a otros docentes?\n",
    "- ¿Qué mejorarías o añadirías?\n",
    "\n",
    "---  \n",
    "Nos vemos en la Semana 2. ¡Sube este notebook a tu GitHub y compártelo conmigo para darte retro!  \n"
   ]
  }
 ],
 "metadata": {},
 "nbformat": 4,
 "nbformat_minor": 5
}
