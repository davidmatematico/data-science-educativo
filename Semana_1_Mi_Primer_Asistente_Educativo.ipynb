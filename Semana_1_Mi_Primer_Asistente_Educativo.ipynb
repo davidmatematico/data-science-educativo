{
  "cells": [
    {
      "cell_type": "markdown",
      "metadata": {
        "id": "view-in-github",
        "colab_type": "text"
      },
      "source": [
        "<a href=\"https://colab.research.google.com/github/davidmatematico/data-science-educativo/blob/main/Semana_1_Mi_Primer_Asistente_Educativo.ipynb\" target=\"_parent\"><img src=\"https://colab.research.google.com/assets/colab-badge.svg\" alt=\"Open In Colab\"/></a>"
      ]
    },
    {
      "cell_type": "markdown",
      "id": "99c25661",
      "metadata": {
        "id": "99c25661"
      },
      "source": [
        "# Semana 1 – Mi Primer Asistente Educativo 👨‍🏫🤖\n",
        "\n",
        "**Curso:** Ciencia de Datos Educativa con Enfoque Sociocrítico  \n",
        "**Estudiante:** David  \n",
        "**Profesor guía:** ChatGPT\n",
        "\n",
        "Bienvenido a la primera semana. Aquí aprenderás lo básico de Python mientras diseñas tu primer prototipo de asistente educativo.  \n"
      ]
    },
    {
      "cell_type": "code",
      "execution_count": null,
      "id": "58732779",
      "metadata": {
        "id": "58732779"
      },
      "outputs": [],
      "source": [
        "# Tu primer código en Python\n",
        "print(\"Hola, soy David y estoy creando mi primer asistente educativo con Python.\")"
      ]
    },
    {
      "cell_type": "code",
      "execution_count": null,
      "id": "f21e3aa0",
      "metadata": {
        "colab": {
          "base_uri": "https://localhost:8080/"
        },
        "id": "f21e3aa0",
        "outputId": "fa289ca5-9d98-4e1b-bdcf-4a07114b74e0"
      },
      "outputs": [
        {
          "output_type": "stream",
          "name": "stdout",
          "text": [
            "Mi nombre es David\n",
            "Tengo 31 años\n",
            "Soy profesor de matemáticas\n"
          ]
        }
      ],
      "source": [
        "# Variables en Python\n",
        "nombre = \"David\"\n",
        "edad = 31\n",
        "profesion = \"profesor de matemáticas\"\n",
        "\n",
        "print(\"Mi nombre es\", nombre)\n",
        "print(\"Tengo\", edad, \"años\")\n",
        "print(\"Soy\", profesion)"
      ]
    },
    {
      "cell_type": "code",
      "execution_count": null,
      "id": "6d0f2734",
      "metadata": {
        "colab": {
          "base_uri": "https://localhost:8080/"
        },
        "id": "6d0f2734",
        "outputId": "c36fa9d6-6909-491a-e3fb-50013497fd5e"
      },
      "outputs": [
        {
          "output_type": "stream",
          "name": "stdout",
          "text": [
            "¿Crees que las matemáticas deben servir para transformar la sociedad? (sí/no): Sí\n",
            "¡Excelente! Las matemáticas pueden ser una herramienta de liberación.\n"
          ]
        }
      ],
      "source": [
        "# Simulando una conversación con el asistente\n",
        "respuesta = input(\"¿Crees que las matemáticas deben servir para transformar la sociedad? (sí/no): \")\n",
        "\n",
        "if respuesta.lower() == \"sí\":\n",
        "    print(\"¡Excelente! Las matemáticas pueden ser una herramienta de liberación.\")\n",
        "else:\n",
        "    print(\"Es válido. A veces la escuela no nos ha mostrado su verdadero poder.\")"
      ]
    },
    {
      "cell_type": "markdown",
      "id": "1f9b9a20",
      "metadata": {
        "id": "1f9b9a20"
      },
      "source": [
        "## 🧠 Reto de la semana\n",
        "\n",
        "Crea una entrevista con 3 preguntas que haría tu asistente educativo a un profesor sobre currículo y educación crítica.  \n",
        "Usa `input()` y `print()` para simular el diálogo.  \n",
        "Ejemplo:\n",
        "\n",
        "```python\n",
        "pregunta1 = input(\"¿Qué entiendes por currículo sociocrítico?\")\n",
        "print(\"Gracias por tu respuesta:\", pregunta1)\n",
        "```\n",
        "\n",
        "Desarrolla tu versión abajo:\n"
      ]
    },
    {
      "cell_type": "code",
      "execution_count": null,
      "id": "07de4520",
      "metadata": {
        "colab": {
          "base_uri": "https://localhost:8080/"
        },
        "id": "07de4520",
        "outputId": "f1a6fd77-692a-4a42-c840-9e7286e73878"
      },
      "outputs": [
        {
          "output_type": "stream",
          "name": "stdout",
          "text": [
            "Pregunta 1: ¿Por qué consideras que deberia cambiar el curriculo de tu institución? Porque está obsoleto\n",
            "Respuesta grabada: Porque está obsoleto\n",
            "Pregunta 2: ¿Tienes la información de tu institución acerca de recursos, modelo pedagógico, entre otros? Si los conozco\n",
            "Respuesta grabada: Si los conozco\n",
            "Pregunta 3: ¿Qué visión tienes de ma escuela?Institución que forma a los individuos en el marco de una cultura\n",
            "Respuesta grabada: Institución que forma a los individuos en el marco de una cultura\n"
          ]
        }
      ],
      "source": [
        "# Tu código aquí\n",
        "pregunta1 = input(\"Pregunta 1: ¿Por qué consideras que deberia cambiar el curriculo de tu institución? \")\n",
        "print(\"Respuesta grabada:\", pregunta1)\n",
        "\n",
        "pregunta2 = input(\"Pregunta 2: ¿Tienes la información de tu institución acerca de recursos, modelo pedagógico, entre otros? \")\n",
        "print(\"Respuesta grabada:\", pregunta2)\n",
        "\n",
        "pregunta3 = input(\"Pregunta 3: ¿Qué visión tienes de ma escuela?\")\n",
        "print(\"Respuesta grabada:\", pregunta3)"
      ]
    },
    {
      "cell_type": "markdown",
      "id": "9b3fe4e0",
      "metadata": {
        "id": "9b3fe4e0"
      },
      "source": [
        "## ✍️ Reflexión final\n",
        "\n",
        "Responde aquí con Markdown (doble clic para editar esta celda):\n",
        "\n",
        "- ¿Cómo te sentiste programando tu primer asistente?\n",
        "fue fácil\n",
        "- ¿Qué ideas se te ocurren para que este chatbot pueda ayudar a otros docentes?\n",
        "No sé que lleve paso a paso a preguntar por la institución sus características, lo que esperan, qué ideas tienen, si quieren empezar con un proyecto y ver su impacto en el currículo o de una vez ver los cambios que harían... etc\n",
        "- ¿Qué mejorarías o añadirías?\n",
        "preguntas con opción múltiple\n",
        "---  \n",
        "Nos vemos en la Semana 2. ¡Sube este notebook a tu GitHub y compártelo conmigo para darte retro!  \n"
      ]
    }
  ],
  "metadata": {
    "colab": {
      "provenance": [],
      "include_colab_link": true
    },
    "language_info": {
      "name": "python"
    },
    "kernelspec": {
      "name": "python3",
      "display_name": "Python 3"
    }
  },
  "nbformat": 4,
  "nbformat_minor": 5
}